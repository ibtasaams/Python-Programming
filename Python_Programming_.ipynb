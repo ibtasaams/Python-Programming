{
  "nbformat": 4,
  "nbformat_minor": 0,
  "metadata": {
    "colab": {
      "provenance": [],
      "toc_visible": true,
      "authorship_tag": "ABX9TyP8nZbTgI3jH9g2dYX5JBpl",
      "include_colab_link": true
    },
    "kernelspec": {
      "name": "python3",
      "display_name": "Python 3"
    },
    "language_info": {
      "name": "python"
    }
  },
  "cells": [
    {
      "cell_type": "markdown",
      "metadata": {
        "id": "view-in-github",
        "colab_type": "text"
      },
      "source": [
        "<a href=\"https://colab.research.google.com/github/ibtasaams/Python-Programming/blob/main/Python_Programming_.ipynb\" target=\"_parent\"><img src=\"https://colab.research.google.com/assets/colab-badge.svg\" alt=\"Open In Colab\"/></a>"
      ]
    },
    {
      "cell_type": "markdown",
      "source": [
        "# Basics"
      ],
      "metadata": {
        "id": "ZzwJftOD1e9u"
      }
    },
    {
      "cell_type": "markdown",
      "source": [
        "In this section we will cover the basic concepts of Python"
      ],
      "metadata": {
        "id": "BlXFO59c1tUk"
      }
    },
    {
      "cell_type": "markdown",
      "source": [
        "Python is a case sensitive language <br>"
      ],
      "metadata": {
        "id": "Vyt78wnS2OMJ"
      }
    }
  ]
}